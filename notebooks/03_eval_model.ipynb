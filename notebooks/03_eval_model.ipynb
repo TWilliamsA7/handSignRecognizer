{
 "cells": [
  {
   "cell_type": "markdown",
   "id": "6d2ba9b8-c1ed-4e6d-963c-5aa4861fe965",
   "metadata": {},
   "source": [
    "# Hand Sign Recognition - Model Evaluation\n",
    "\n",
    "This notebook is used to evaluate the model created in 02"
   ]
  },
  {
   "cell_type": "markdown",
   "id": "416c8d2e-394d-405b-adda-cd7556432453",
   "metadata": {},
   "source": [
    "## Imports"
   ]
  },
  {
   "cell_type": "code",
   "execution_count": null,
   "id": "bd7e5058-f54c-4fa0-a769-668dbfcaa20b",
   "metadata": {},
   "outputs": [],
   "source": [
    "import numpy as np\n",
    "import matplotlib.pyplot as plt\n",
    "import seaborn as sns\n",
    "import tensorflow as tf\n",
    "from sklearn.metrics import confusion_matrix, classification_report\n",
    "import cv2\n",
    "from pathlib import Path"
   ]
  },
  {
   "cell_type": "markdown",
   "id": "fb730038-b963-4b3d-a91a-2392562ac271",
   "metadata": {},
   "source": [
    "## Load Model and Test Data"
   ]
  },
  {
   "cell_type": "code",
   "execution_count": null,
   "id": "bf11e3ba-07a6-41f6-a3d4-d3f89c413e20",
   "metadata": {},
   "outputs": [],
   "source": [
    "# Load saved model\n",
    "MODEL_PATH = Path(\"..\") / \"models\" / \"cnn_hand_sign_model_03.h5\"\n",
    "model = tf.keras.models.load_model(MODEL_PATH)\n",
    "\n",
    "# Load data (same as in train notebook)\n",
    "DATA_DIR = Path(\"..\") / \"data\" / \"processed\"\n",
    "IMG_SIZE = 128\n",
    "\n",
    "def load_dataset(data_dir):\n",
    "    X = []\n",
    "    y = []\n",
    "    label_map = {}\n",
    "    reverse_map = {}\n",
    "    label_id = 0\n",
    "\n",
    "    for label_folder in sorted(data_dir.iterdir()):\n",
    "        if not label_folder.is_dir():\n",
    "            continue\n",
    "        label = label_folder.name\n",
    "        label_map[label_id] = label\n",
    "        reverse_map[label] = label_id\n",
    "\n",
    "        for img_file in label_folder.glob(\"*.jpg\"):\n",
    "            img = cv2.imread(str(img_file))\n",
    "            img = cv2.resize(img, (IMG_SIZE, IMG_SIZE))\n",
    "            img = cv2.cvtColor(img, cv2.COLOR_BGR2RGB)\n",
    "            X.append(img)\n",
    "            y.append(label_id)\n",
    "\n",
    "        label_id += 1\n",
    "\n",
    "    return np.array(X) / 255.0, np.array(y), label_map, reverse_map\n",
    "\n",
    "X, y, label_map, reverse_map = load_dataset(DATA_DIR)\n",
    "\n",
    "# Same split as before\n",
    "from sklearn.model_selection import train_test_split\n",
    "X_train, X_test, y_train, y_test = train_test_split(\n",
    "    X, y, test_size=0.2, stratify=y, random_state=42\n",
    ")"
   ]
  },
  {
   "cell_type": "markdown",
   "id": "fe76beb8-6931-4134-98b7-ccbdc3cb1fe2",
   "metadata": {},
   "source": [
    "## Predict and Confusion Matrix"
   ]
  },
  {
   "cell_type": "code",
   "execution_count": null,
   "id": "7f9a3759-4429-4ff7-ac99-fbb1e0c83623",
   "metadata": {},
   "outputs": [],
   "source": [
    "# Predict class probabilities\n",
    "y_probs = model.predict(X_test)\n",
    "y_pred = np.argmax(y_probs, axis=1)\n",
    "\n",
    "# Confusion Matrix\n",
    "cm = confusion_matrix(y_test, y_pred)\n",
    "plt.figure(figsize=(8, 6))\n",
    "sns.heatmap(cm, annot=True, fmt='d', cmap='Blues',\n",
    "            xticklabels=list(label_map.values()),\n",
    "            yticklabels=list(label_map.values()))\n",
    "plt.xlabel(\"Predicted\")\n",
    "plt.ylabel(\"Actual\")\n",
    "plt.title(\"Confusion Matrix\")\n",
    "plt.show()"
   ]
  },
  {
   "cell_type": "markdown",
   "id": "62013ba2-f935-4d17-9e74-72d7cd4de76d",
   "metadata": {},
   "source": [
    "## Classification Report"
   ]
  },
  {
   "cell_type": "code",
   "execution_count": null,
   "id": "4fe867ef-d56c-4ded-b1e3-db79c6bfe217",
   "metadata": {},
   "outputs": [],
   "source": [
    "print(classification_report(y_test, y_pred, target_names=list(label_map.values())))"
   ]
  },
  {
   "cell_type": "markdown",
   "id": "02287451-24ab-4124-9e06-b89ac6df9017",
   "metadata": {},
   "source": [
    "## Visualize Misclassified Images"
   ]
  },
  {
   "cell_type": "code",
   "execution_count": null,
   "id": "7d6dbf4d-54c9-4fe5-9b42-55cac83bfbe6",
   "metadata": {},
   "outputs": [],
   "source": [
    "def show_misclassified(X, y_true, y_pred, label_map, n=9):\n",
    "    mis_idx = np.where(y_true != y_pred)[0]\n",
    "    sample = np.random.choice(mis_idx, min(n, len(mis_idx)), replace=False)\n",
    "\n",
    "    fig, axes = plt.subplots(3, 3, figsize=(8, 8))\n",
    "    for ax, idx in zip(axes.flatten(), sample):\n",
    "        img = X[idx]\n",
    "        ax.imshow(img)\n",
    "        ax.set_title(f\"True: {label_map[y_true[idx]]}\\nPred: {label_map[y_pred[idx]]}\")\n",
    "        ax.axis(\"off\")\n",
    "    plt.tight_layout()\n",
    "    plt.show()\n",
    "\n",
    "show_misclassified(X_test, y_test, y_pred, label_map)"
   ]
  },
  {
   "cell_type": "markdown",
   "id": "af8f5792-3f11-47fb-99aa-65adc09e8ee2",
   "metadata": {},
   "source": [
    "## Show Correct Predictions"
   ]
  },
  {
   "cell_type": "code",
   "execution_count": null,
   "id": "9d96ca7c-948b-4732-b9d2-0a23e956c022",
   "metadata": {},
   "outputs": [],
   "source": [
    "def show_correct(X, y_true, y_pred, label_map, label=None, n=6):\n",
    "    correct_idx = np.where((y_true == y_pred))[0]\n",
    "    if label is not None:\n",
    "        correct_idx = [i for i in correct_idx if y_true[i] == label]\n",
    "    sample = np.random.choice(correct_idx, min(n, len(correct_idx)), replace=False)\n",
    "\n",
    "    fig, axes = plt.subplots(2, 3, figsize=(8, 5))\n",
    "    for ax, idx in zip(axes.flatten(), sample):\n",
    "        img = X[idx]\n",
    "        ax.imshow(img)\n",
    "        ax.set_title(f\"Correct: {label_map[y_true[idx]]}\")\n",
    "        ax.axis(\"off\")\n",
    "    plt.tight_layout()\n",
    "    plt.show()\n",
    "\n",
    "# Example: show correct \"B\" predictions\n",
    "show_correct(X_test, y_test, y_pred, label_map, label=reverse_map[\"A\"])\n"
   ]
  },
  {
   "cell_type": "code",
   "execution_count": null,
   "id": "0602fc4e-9477-4ce8-ae03-f01ef55ae539",
   "metadata": {},
   "outputs": [],
   "source": []
  }
 ],
 "metadata": {
  "kernelspec": {
   "display_name": "Python 3 (ipykernel)",
   "language": "python",
   "name": "python3"
  },
  "language_info": {
   "codemirror_mode": {
    "name": "ipython",
    "version": 3
   },
   "file_extension": ".py",
   "mimetype": "text/x-python",
   "name": "python",
   "nbconvert_exporter": "python",
   "pygments_lexer": "ipython3",
   "version": "3.10.0"
  }
 },
 "nbformat": 4,
 "nbformat_minor": 5
}
