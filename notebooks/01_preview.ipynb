{
 "cells": [
  {
   "cell_type": "markdown",
   "id": "a4afce3c-d572-42e1-8865-b95c57c97a4a",
   "metadata": {},
   "source": [
    "# Hand Sign Recognition - Image Preview\n",
    "\n",
    "This notebook displays random samples from each label folder to verify preprocessing worked correctly"
   ]
  },
  {
   "cell_type": "markdown",
   "id": "45970414-9879-4d87-a95d-494cadf18941",
   "metadata": {},
   "source": [
    "## Imports"
   ]
  },
  {
   "cell_type": "code",
   "execution_count": null,
   "id": "4a3bfbbd-f264-4e2d-a5e6-c62e5bf14cb2",
   "metadata": {},
   "outputs": [],
   "source": [
    "import os\n",
    "import cv2\n",
    "import numpy as np\n",
    "import matplotlib.pyplot as plt\n",
    "import seaborn as sns\n",
    "import pandas as pd\n",
    "from pathlib import Path\n",
    "import random\n",
    "\n",
    "# Set display options\n",
    "%matplotlib inline\n"
   ]
  },
  {
   "cell_type": "markdown",
   "id": "77a345f8-81d2-4bd9-bcf3-d6efc9705902",
   "metadata": {},
   "source": [
    "## Dataset Paths and Constants"
   ]
  },
  {
   "cell_type": "code",
   "execution_count": null,
   "id": "2d6e4594-71e6-4609-8e50-483515e70de0",
   "metadata": {},
   "outputs": [],
   "source": [
    "# Go up one directory and into data/processed/\n",
    "DATA_DIR = Path(\"..\") / \"data\" / \"processed\"\n",
    "IMG_SIZE = 128"
   ]
  },
  {
   "cell_type": "markdown",
   "id": "8ca3e8bb-5525-404e-84e8-149d2c843287",
   "metadata": {},
   "source": [
    "## Load All Images and Labels"
   ]
  },
  {
   "cell_type": "code",
   "execution_count": null,
   "id": "5632f823-d920-47be-9be5-05d468faff69",
   "metadata": {},
   "outputs": [],
   "source": [
    "def load_dataset(data_dir):\n",
    "    X = []\n",
    "    y = []\n",
    "    label_map = {}\n",
    "    reverse_map = {}\n",
    "    label_id = 0\n",
    "\n",
    "    for label_folder in sorted(data_dir.iterdir()):\n",
    "        if not label_folder.is_dir():\n",
    "            continue\n",
    "        label = label_folder.name\n",
    "        label_map[label_id] = label\n",
    "        reverse_map[label] = label_id\n",
    "\n",
    "        for img_file in label_folder.glob(\"*.jpg\"):\n",
    "            img = cv2.imread(str(img_file))\n",
    "            img = cv2.resize(img, (IMG_SIZE, IMG_SIZE))\n",
    "            img = cv2.cvtColor(img, cv2.COLOR_BGR2RGB)\n",
    "            X.append(img)\n",
    "            y.append(label)\n",
    "\n",
    "        label_id += 1\n",
    "\n",
    "    return np.array(X), np.array(y), label_map, reverse_map\n",
    "\n",
    "X, y, label_map, reverse_map = load_dataset(DATA_DIR)\n",
    "\n",
    "print(f\"✅ Loaded {len(X)} images from {len(label_map)} labels\")"
   ]
  },
  {
   "cell_type": "markdown",
   "id": "23e0ec6a-e7e9-4b22-b679-8f7f42a11d9c",
   "metadata": {},
   "source": [
    "## View Class Distribution"
   ]
  },
  {
   "cell_type": "code",
   "execution_count": null,
   "id": "d57aef20-c61c-4483-b380-daa85682c6e9",
   "metadata": {},
   "outputs": [],
   "source": [
    "df = pd.DataFrame({\"label\": y})\n",
    "sns.countplot(data=df, x=\"label\", palette=\"Set2\")\n",
    "plt.title(\"Number of Samples per Class\")\n",
    "plt.xticks(rotation=45)\n",
    "plt.tight_layout()\n",
    "plt.show()"
   ]
  },
  {
   "cell_type": "markdown",
   "id": "62df70be-f995-4fac-97ea-8385e40b8b0e",
   "metadata": {},
   "source": [
    "## Show Random Images From A Given Label"
   ]
  },
  {
   "cell_type": "code",
   "execution_count": null,
   "id": "581ff6f7-664a-43b7-95ca-3dca89479227",
   "metadata": {},
   "outputs": [],
   "source": [
    "def preview_random_images(X, y, label: str, n=9):\n",
    "    indices = np.where(y == label)[0]\n",
    "    sample_indices = np.random.choice(indices, min(n, len(indices)), replace=False)\n",
    "    sample_images = X[sample_indices]\n",
    "\n",
    "    fig, axes = plt.subplots(3, 3, figsize=(6, 6))\n",
    "    for ax, img in zip(axes.flatten(), sample_images):\n",
    "        ax.imshow(img)\n",
    "        ax.axis(\"off\")\n",
    "    fig.suptitle(f\"Sample images for label: {label}\", fontsize=14)\n",
    "    plt.tight_layout()\n",
    "    plt.show()\n"
   ]
  },
  {
   "cell_type": "code",
   "execution_count": null,
   "id": "05aafd62-16b7-45ee-bf51-86244ce1408c",
   "metadata": {},
   "outputs": [],
   "source": [
    "preview_random_images(X, y, label=\"A\")\n",
    "preview_random_images(X, y, label=\"OK\")\n",
    "preview_random_images(X, y, label=\"B\")"
   ]
  },
  {
   "cell_type": "markdown",
   "id": "3276fbf7-23bf-43b1-a5e7-e65a02326174",
   "metadata": {},
   "source": [
    "## Show Pixel Value Distribution"
   ]
  },
  {
   "cell_type": "code",
   "execution_count": null,
   "id": "055c444b-4d09-458b-85ad-37fcdfbff28f",
   "metadata": {},
   "outputs": [],
   "source": [
    "plt.hist(X.flatten(), bins=50, color='skyblue')\n",
    "plt.title(\"Pixel Intensity Distribution\")\n",
    "plt.xlabel(\"Pixel Value (0 to 1)\")\n",
    "plt.ylabel(\"Frequency\")\n",
    "plt.show()"
   ]
  },
  {
   "cell_type": "code",
   "execution_count": null,
   "id": "fc6e7d68-946d-456b-8e8a-abf749ae00fc",
   "metadata": {},
   "outputs": [],
   "source": []
  }
 ],
 "metadata": {
  "kernelspec": {
   "display_name": "Python 3 (ipykernel)",
   "language": "python",
   "name": "python3"
  },
  "language_info": {
   "codemirror_mode": {
    "name": "ipython",
    "version": 3
   },
   "file_extension": ".py",
   "mimetype": "text/x-python",
   "name": "python",
   "nbconvert_exporter": "python",
   "pygments_lexer": "ipython3",
   "version": "3.10.0"
  }
 },
 "nbformat": 4,
 "nbformat_minor": 5
}
